{
 "cells": [
  {
   "cell_type": "code",
   "execution_count": 1,
   "id": "53f8e4e1",
   "metadata": {},
   "outputs": [],
   "source": [
    "import re\n",
    "import nltk\n",
    "import string"
   ]
  },
  {
   "cell_type": "markdown",
   "id": "d21746d1",
   "metadata": {},
   "source": [
    "# Text Summarization\n",
    "-VISWANADH"
   ]
  },
  {
   "cell_type": "code",
   "execution_count": 2,
   "id": "249f06da",
   "metadata": {},
   "outputs": [],
   "source": [
    "\n",
    "original_text = \"\"\"Artificial intelligence is human like intelligence. \n",
    "                   It is the study of intelligent artificial agents. \n",
    "                   Science and engineering to produce intelligent machines. \n",
    "                   Solve problems and have intelligence. \n",
    "                   Related to intelligent behavior. \n",
    "                   Developing of reasoning machines. \n",
    "                   Learn from mistakes and successes. \n",
    "                   Artificial intelligence is related to reasoning in everyday situations.\"\"\""
   ]
  },
  {
   "cell_type": "markdown",
   "id": "cb260846",
   "metadata": {},
   "source": [
    "# Based on weight of every sentece:The sentences of a given document are ordered and returned."
   ]
  },
  {
   "cell_type": "code",
   "execution_count": 3,
   "id": "53156655",
   "metadata": {},
   "outputs": [
    {
     "data": {
      "text/plain": [
       "'Artificial intelligence is human like intelligence. \\n                   It is the study of intelligent artificial agents. \\n                   Science and engineering to produce intelligent machines. \\n                   Solve problems and have intelligence. \\n                   Related to intelligent behavior. \\n                   Developing of reasoning machines. \\n                   Learn from mistakes and successes. \\n                   Artificial intelligence is related to reasoning in everyday situations.'"
      ]
     },
     "execution_count": 3,
     "metadata": {},
     "output_type": "execute_result"
    }
   ],
   "source": [
    "original_text"
   ]
  },
  {
   "cell_type": "code",
   "execution_count": 4,
   "id": "85516488",
   "metadata": {},
   "outputs": [],
   "source": [
    "original_text=re.sub(r'\\s+', ' ',original_text)"
   ]
  },
  {
   "cell_type": "code",
   "execution_count": 5,
   "id": "0f3cb15e",
   "metadata": {},
   "outputs": [
    {
     "data": {
      "text/plain": [
       "'Artificial intelligence is human like intelligence. It is the study of intelligent artificial agents. Science and engineering to produce intelligent machines. Solve problems and have intelligence. Related to intelligent behavior. Developing of reasoning machines. Learn from mistakes and successes. Artificial intelligence is related to reasoning in everyday situations.'"
      ]
     },
     "execution_count": 5,
     "metadata": {},
     "output_type": "execute_result"
    }
   ],
   "source": [
    "original_text"
   ]
  },
  {
   "cell_type": "code",
   "execution_count": 6,
   "id": "83db9e54",
   "metadata": {},
   "outputs": [
    {
     "name": "stderr",
     "output_type": "stream",
     "text": [
      "[nltk_data] Error loading punkt: <urlopen error [WinError 10060] A\n",
      "[nltk_data]     connection attempt failed because the connected party\n",
      "[nltk_data]     did not properly respond after a period of time, or\n",
      "[nltk_data]     established connection failed because connected host\n",
      "[nltk_data]     has failed to respond>\n"
     ]
    },
    {
     "data": {
      "text/plain": [
       "False"
      ]
     },
     "execution_count": 6,
     "metadata": {},
     "output_type": "execute_result"
    }
   ],
   "source": [
    "nltk.download('punkt')"
   ]
  },
  {
   "cell_type": "code",
   "execution_count": 7,
   "id": "47e151b2",
   "metadata": {},
   "outputs": [],
   "source": [
    "stopwords=nltk.corpus.stopwords.words('english')"
   ]
  },
  {
   "cell_type": "code",
   "execution_count": 8,
   "id": "1b88c7ea",
   "metadata": {},
   "outputs": [],
   "source": [
    "def preprocessing(org_text):\n",
    "    formatted_text=org_text.lower()\n",
    "    tokens=[]\n",
    "    for word in nltk.word_tokenize(formatted_text):\n",
    "        tokens.append(word)\n",
    "    tokens=[word for word in tokens if word not in stopwords and word not in string.punctuation]\n",
    "    formatted_text=' '.join(word for word in tokens)\n",
    "    return formatted_text"
   ]
  },
  {
   "cell_type": "code",
   "execution_count": 9,
   "id": "e71c14df",
   "metadata": {},
   "outputs": [],
   "source": [
    "formatted_text=preprocessing(original_text)"
   ]
  },
  {
   "cell_type": "code",
   "execution_count": 10,
   "id": "b8976058",
   "metadata": {},
   "outputs": [
    {
     "data": {
      "text/plain": [
       "'artificial intelligence human like intelligence study intelligent artificial agents science engineering produce intelligent machines solve problems intelligence related intelligent behavior developing reasoning machines learn mistakes successes artificial intelligence related reasoning everyday situations'"
      ]
     },
     "execution_count": 10,
     "metadata": {},
     "output_type": "execute_result"
    }
   ],
   "source": [
    "formatted_text"
   ]
  },
  {
   "cell_type": "code",
   "execution_count": 11,
   "id": "a6c7dda9",
   "metadata": {},
   "outputs": [],
   "source": [
    "words_freq=nltk.FreqDist(nltk.word_tokenize(formatted_text))"
   ]
  },
  {
   "cell_type": "code",
   "execution_count": 12,
   "id": "a3a0e49a",
   "metadata": {},
   "outputs": [
    {
     "data": {
      "text/plain": [
       "FreqDist({'intelligence': 4, 'artificial': 3, 'intelligent': 3, 'machines': 2, 'related': 2, 'reasoning': 2, 'human': 1, 'like': 1, 'study': 1, 'agents': 1, ...})"
      ]
     },
     "execution_count": 12,
     "metadata": {},
     "output_type": "execute_result"
    }
   ],
   "source": [
    "words_freq"
   ]
  },
  {
   "cell_type": "code",
   "execution_count": 13,
   "id": "fd1848fc",
   "metadata": {},
   "outputs": [
    {
     "data": {
      "text/plain": [
       "4"
      ]
     },
     "execution_count": 13,
     "metadata": {},
     "output_type": "execute_result"
    }
   ],
   "source": [
    "words_freq[\"intelligence\"]"
   ]
  },
  {
   "cell_type": "code",
   "execution_count": 14,
   "id": "fae94336",
   "metadata": {},
   "outputs": [
    {
     "data": {
      "text/plain": [
       "dict_keys(['artificial', 'intelligence', 'human', 'like', 'study', 'intelligent', 'agents', 'science', 'engineering', 'produce', 'machines', 'solve', 'problems', 'related', 'behavior', 'developing', 'reasoning', 'learn', 'mistakes', 'successes', 'everyday', 'situations'])"
      ]
     },
     "execution_count": 14,
     "metadata": {},
     "output_type": "execute_result"
    }
   ],
   "source": [
    "words_freq.keys()"
   ]
  },
  {
   "cell_type": "code",
   "execution_count": 15,
   "id": "d7ca57c6",
   "metadata": {},
   "outputs": [
    {
     "data": {
      "text/plain": [
       "22"
      ]
     },
     "execution_count": 15,
     "metadata": {},
     "output_type": "execute_result"
    }
   ],
   "source": [
    "len(words_freq.keys())"
   ]
  },
  {
   "cell_type": "code",
   "execution_count": 16,
   "id": "63f0df7b",
   "metadata": {},
   "outputs": [
    {
     "data": {
      "text/plain": [
       "22"
      ]
     },
     "execution_count": 16,
     "metadata": {},
     "output_type": "execute_result"
    }
   ],
   "source": [
    "len(words_freq.values())"
   ]
  },
  {
   "cell_type": "code",
   "execution_count": 17,
   "id": "2c99e5ba",
   "metadata": {},
   "outputs": [
    {
     "data": {
      "text/plain": [
       "dict_values([3, 4, 1, 1, 1, 3, 1, 1, 1, 1, 2, 1, 1, 2, 1, 1, 2, 1, 1, 1, 1, 1])"
      ]
     },
     "execution_count": 17,
     "metadata": {},
     "output_type": "execute_result"
    }
   ],
   "source": [
    "words_freq.values()"
   ]
  },
  {
   "cell_type": "code",
   "execution_count": 18,
   "id": "f9bffc2f",
   "metadata": {},
   "outputs": [],
   "source": [
    "highest_freq=max(words_freq.values())"
   ]
  },
  {
   "cell_type": "code",
   "execution_count": 19,
   "id": "051b5b68",
   "metadata": {},
   "outputs": [
    {
     "name": "stdout",
     "output_type": "stream",
     "text": [
      "The highest frequency is 4\n"
     ]
    }
   ],
   "source": [
    "print(\"The highest frequency is\",highest_freq)"
   ]
  },
  {
   "cell_type": "code",
   "execution_count": 20,
   "id": "ee9e71a7",
   "metadata": {},
   "outputs": [
    {
     "name": "stdout",
     "output_type": "stream",
     "text": [
      "artificial\n",
      "intelligence\n",
      "human\n",
      "like\n",
      "study\n",
      "intelligent\n",
      "agents\n",
      "science\n",
      "engineering\n",
      "produce\n",
      "machines\n",
      "solve\n",
      "problems\n",
      "related\n",
      "behavior\n",
      "developing\n",
      "reasoning\n",
      "learn\n",
      "mistakes\n",
      "successes\n",
      "everyday\n",
      "situations\n"
     ]
    }
   ],
   "source": [
    "for word in words_freq.keys():\n",
    "    print(word)\n"
   ]
  },
  {
   "cell_type": "code",
   "execution_count": 21,
   "id": "80b0af9a",
   "metadata": {},
   "outputs": [],
   "source": [
    "weights={}"
   ]
  },
  {
   "cell_type": "markdown",
   "id": "53ed2bb2",
   "metadata": {},
   "source": [
    "# Weight of a word=(freq of word)/max-fre"
   ]
  },
  {
   "cell_type": "code",
   "execution_count": 22,
   "id": "ce37ad94",
   "metadata": {},
   "outputs": [],
   "source": [
    "for word in words_freq.keys():\n",
    "    weights[word]=words_freq[word]/highest_freq\n",
    "    \n",
    "    "
   ]
  },
  {
   "cell_type": "code",
   "execution_count": 23,
   "id": "7e095f31",
   "metadata": {},
   "outputs": [
    {
     "data": {
      "text/plain": [
       "{'artificial': 0.75,\n",
       " 'intelligence': 1.0,\n",
       " 'human': 0.25,\n",
       " 'like': 0.25,\n",
       " 'study': 0.25,\n",
       " 'intelligent': 0.75,\n",
       " 'agents': 0.25,\n",
       " 'science': 0.25,\n",
       " 'engineering': 0.25,\n",
       " 'produce': 0.25,\n",
       " 'machines': 0.5,\n",
       " 'solve': 0.25,\n",
       " 'problems': 0.25,\n",
       " 'related': 0.5,\n",
       " 'behavior': 0.25,\n",
       " 'developing': 0.25,\n",
       " 'reasoning': 0.5,\n",
       " 'learn': 0.25,\n",
       " 'mistakes': 0.25,\n",
       " 'successes': 0.25,\n",
       " 'everyday': 0.25,\n",
       " 'situations': 0.25}"
      ]
     },
     "execution_count": 23,
     "metadata": {},
     "output_type": "execute_result"
    }
   ],
   "source": [
    "weights"
   ]
  },
  {
   "cell_type": "markdown",
   "id": "8583f3c3",
   "metadata": {},
   "source": [
    "# Sentence tokenization:Splitting each sentence into tokens('.' as the delimiter) and then computing weight for wach sentence."
   ]
  },
  {
   "cell_type": "code",
   "execution_count": 24,
   "id": "b91fab91",
   "metadata": {},
   "outputs": [],
   "source": [
    "Sentences=[]\n",
    "for sentence in original_text.split('.'):\n",
    "    Sentences.append(sentence.lower())"
   ]
  },
  {
   "cell_type": "code",
   "execution_count": 25,
   "id": "695a26b0",
   "metadata": {},
   "outputs": [
    {
     "data": {
      "text/plain": [
       "['artificial intelligence is human like intelligence',\n",
       " ' it is the study of intelligent artificial agents',\n",
       " ' science and engineering to produce intelligent machines',\n",
       " ' solve problems and have intelligence',\n",
       " ' related to intelligent behavior',\n",
       " ' developing of reasoning machines',\n",
       " ' learn from mistakes and successes',\n",
       " ' artificial intelligence is related to reasoning in everyday situations',\n",
       " '']"
      ]
     },
     "execution_count": 25,
     "metadata": {},
     "output_type": "execute_result"
    }
   ],
   "source": [
    "Sentences"
   ]
  },
  {
   "cell_type": "markdown",
   "id": "21868e19",
   "metadata": {},
   "source": [
    "# Computing weight for each sentence"
   ]
  },
  {
   "cell_type": "code",
   "execution_count": 26,
   "id": "748d114b",
   "metadata": {},
   "outputs": [],
   "source": [
    "def computeweight(sentence):\n",
    "    weight=0\n",
    "    for word in nltk.word_tokenize(sentence):\n",
    "        ans=weights.get(word)\n",
    "        if ans is None:\n",
    "            ans=0\n",
    "        weight+=ans\n",
    "    return weight\n",
    "        \n",
    "        \n",
    "        "
   ]
  },
  {
   "cell_type": "code",
   "execution_count": 27,
   "id": "a95e4789",
   "metadata": {},
   "outputs": [],
   "source": [
    "dict_sen_weight={}\n",
    "for sentence in Sentences:\n",
    "    dict_sen_weight[sentence]=computeweight(sentence)"
   ]
  },
  {
   "cell_type": "code",
   "execution_count": 28,
   "id": "9e7ee956",
   "metadata": {},
   "outputs": [
    {
     "name": "stdout",
     "output_type": "stream",
     "text": [
      "{'artificial intelligence is human like intelligence': 3.25, ' it is the study of intelligent artificial agents': 2.0, ' science and engineering to produce intelligent machines': 2.0, ' solve problems and have intelligence': 1.5, ' related to intelligent behavior': 1.5, ' developing of reasoning machines': 1.25, ' learn from mistakes and successes': 0.75, ' artificial intelligence is related to reasoning in everyday situations': 3.25, '': 0}\n"
     ]
    }
   ],
   "source": [
    "print(dict_sen_weight)"
   ]
  },
  {
   "cell_type": "code",
   "execution_count": 29,
   "id": "35dad0d8",
   "metadata": {},
   "outputs": [],
   "source": [
    "sorted_dict=dict(sorted(dict_sen_weight.items(),key=lambda item:item[1],reverse=True))"
   ]
  },
  {
   "cell_type": "code",
   "execution_count": 30,
   "id": "0876bc1d",
   "metadata": {},
   "outputs": [
    {
     "data": {
      "text/plain": [
       "{'artificial intelligence is human like intelligence': 3.25,\n",
       " ' artificial intelligence is related to reasoning in everyday situations': 3.25,\n",
       " ' it is the study of intelligent artificial agents': 2.0,\n",
       " ' science and engineering to produce intelligent machines': 2.0,\n",
       " ' solve problems and have intelligence': 1.5,\n",
       " ' related to intelligent behavior': 1.5,\n",
       " ' developing of reasoning machines': 1.25,\n",
       " ' learn from mistakes and successes': 0.75,\n",
       " '': 0}"
      ]
     },
     "execution_count": 30,
     "metadata": {},
     "output_type": "execute_result"
    }
   ],
   "source": [
    "sorted_dict"
   ]
  },
  {
   "cell_type": "code",
   "execution_count": 31,
   "id": "9a72111b",
   "metadata": {},
   "outputs": [],
   "source": [
    "summary=\" \"\n",
    "for x in sorted_dict.keys():\n",
    "    summary=summary+x+\"\\n\""
   ]
  },
  {
   "cell_type": "code",
   "execution_count": 32,
   "id": "14e89958",
   "metadata": {},
   "outputs": [
    {
     "name": "stdout",
     "output_type": "stream",
     "text": [
      " artificial intelligence is human like intelligence\n",
      " artificial intelligence is related to reasoning in everyday situations\n",
      " it is the study of intelligent artificial agents\n",
      " science and engineering to produce intelligent machines\n",
      " solve problems and have intelligence\n",
      " related to intelligent behavior\n",
      " developing of reasoning machines\n",
      " learn from mistakes and successes\n",
      "\n",
      "\n"
     ]
    }
   ],
   "source": [
    "print(summary)"
   ]
  },
  {
   "cell_type": "code",
   "execution_count": 33,
   "id": "1d77403e",
   "metadata": {},
   "outputs": [],
   "source": [
    "def compute_weight_word(paragraph):\n",
    "    dict_w={}\n",
    "    words_freq=nltk.FreqDist(nltk.word_tokenize(paragraph))\n",
    "    max_fre=max(words_freq.values())\n",
    "    for word in words_freq:\n",
    "        dict_w[word]=(words_freq.get(word))/max_fre\n",
    "    return dict_w\n",
    "    "
   ]
  },
  {
   "cell_type": "code",
   "execution_count": 34,
   "id": "2bf3e9bc",
   "metadata": {},
   "outputs": [],
   "source": [
    "def compute_weight_sentence(sentence,dictionary):\n",
    "    weight=0\n",
    "    for word in nltk.word_tokenize(sentence):\n",
    "        ans=dictionary.get(word)\n",
    "        if ans is None:\n",
    "            ans=0\n",
    "        weight+=ans\n",
    "    return weight\n",
    "     \n",
    "     \n",
    "    \n",
    "    "
   ]
  },
  {
   "cell_type": "code",
   "execution_count": 35,
   "id": "1c8751c3",
   "metadata": {},
   "outputs": [],
   "source": [
    "def capitalize_sentences(text):\n",
    "    return string.capwords(text,sep=None)\n"
   ]
  },
  {
   "cell_type": "code",
   "execution_count": 36,
   "id": "7ff172a4",
   "metadata": {},
   "outputs": [],
   "source": [
    "def get_summary(para):\n",
    "    sentences=[]\n",
    "    d_weight={}\n",
    "    summarize_text=\"\"\n",
    "    for sentence in para.split('.'):\n",
    "        sentences.append(sentence.lower())\n",
    "    para1=preprocessing(para)\n",
    "    dict_weights=compute_weight_word(para1)\n",
    "    for sentence in sentences:\n",
    "        d_weight[sentence]=compute_weight_sentence(sentence,dict_weights)\n",
    "    sort_d=dict(sorted(d_weight.items(),key=lambda item:item[1],reverse=True))\n",
    "    for key in sort_d.keys():\n",
    "        summarize_text=summarize_text+ key+\".\"\n",
    "    print(capitalize_sentences(summarize_text))\n",
    "    "
   ]
  },
  {
   "cell_type": "code",
   "execution_count": 37,
   "id": "7322a7cb",
   "metadata": {},
   "outputs": [],
   "source": [
    "k=\"Artificial intelligence is based on the principle that human intelligence can be defined in a way that a machine can easily mimic it and execute tasks, from the most simple to those that are even more complex. The goals of artificial intelligence include mimicking human cognitive activity. Researchers and developers in the field are making surprisingly rapid strides in mimicking activities such as learning, reasoning, and perception, to the extent that these can be concretely defined. Some believe that innovators may soon be able to develop systems that exceed the capacity of humans to learn or reason out any subject. But others remain skeptical because all cognitive activity is laced with value judgments that are subject to human experience.\""
   ]
  },
  {
   "cell_type": "code",
   "execution_count": 38,
   "id": "de9c4b92",
   "metadata": {},
   "outputs": [
    {
     "name": "stdout",
     "output_type": "stream",
     "text": [
      "Artificial Intelligence Is Based On The Principle That Human Intelligence Can Be Defined In A Way That A Machine Can Easily Mimic It And Execute Tasks, From The Most Simple To Those That Are Even More Complex. Researchers And Developers In The Field Are Making Surprisingly Rapid Strides In Mimicking Activities Such As Learning, Reasoning, And Perception, To The Extent That These Can Be Concretely Defined. The Goals Of Artificial Intelligence Include Mimicking Human Cognitive Activity. But Others Remain Skeptical Because All Cognitive Activity Is Laced With Value Judgments That Are Subject To Human Experience. Some Believe That Innovators May Soon Be Able To Develop Systems That Exceed The Capacity Of Humans To Learn Or Reason Out Any Subject..\n"
     ]
    }
   ],
   "source": [
    "get_summary(k)"
   ]
  },
  {
   "cell_type": "code",
   "execution_count": 39,
   "id": "b91981ba",
   "metadata": {},
   "outputs": [],
   "source": [
    "from IPython.core.display import HTML"
   ]
  },
  {
   "cell_type": "code",
   "execution_count": null,
   "id": "f6ddffaa",
   "metadata": {},
   "outputs": [],
   "source": []
  }
 ],
 "metadata": {
  "kernelspec": {
   "display_name": "Python 3 (ipykernel)",
   "language": "python",
   "name": "python3"
  },
  "language_info": {
   "codemirror_mode": {
    "name": "ipython",
    "version": 3
   },
   "file_extension": ".py",
   "mimetype": "text/x-python",
   "name": "python",
   "nbconvert_exporter": "python",
   "pygments_lexer": "ipython3",
   "version": "3.9.13"
  }
 },
 "nbformat": 4,
 "nbformat_minor": 5
}
